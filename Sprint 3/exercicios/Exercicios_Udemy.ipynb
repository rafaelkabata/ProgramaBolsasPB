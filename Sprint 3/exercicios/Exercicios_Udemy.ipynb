{
 "cells": [
  {
   "cell_type": "markdown",
   "id": "28becb37-0426-4846-bbbc-f79f5c54663c",
   "metadata": {},
   "source": [
    "# Exercícios da UDEMY"
   ]
  },
  {
   "cell_type": "markdown",
   "id": "43d73530-05f0-47a6-9857-b18054382102",
   "metadata": {},
   "source": [
    "## Exercícios Parte 1\n",
    "## Desenvolva um código em Python que crie variáveis para armazenar o nome e a idade de uma pessoa, juntamente com seus valores correspondentes. Como saída, imprima o ano em que a pessoa completará 100 anos de idade."
   ]
  },
  {
   "cell_type": "code",
   "execution_count": 1,
   "id": "2d746305-0a0f-47fd-b911-881ae6cfd650",
   "metadata": {},
   "outputs": [
    {
     "name": "stdout",
     "output_type": "stream",
     "text": [
      "2092\n"
     ]
    }
   ],
   "source": [
    "nome = \"rafael\"\n",
    "idade = 32\n",
    "\n",
    "ano_completar_100 = 2024 + (100 - idade)\n",
    "\n",
    "print(ano_completar_100)\n"
   ]
  },
  {
   "cell_type": "markdown",
   "id": "e20ec1d4-1923-484f-b3a1-886d6d299a86",
   "metadata": {},
   "source": [
    "## Exercícios Parte 1\n",
    "## Escreva um código Python que use a função range() para adicionar três números em uma lista(Esta lista deve chamar-se 'números')  e verificar se esses três números são pares ou ímpares. Para cada número, imprima como saída Par: ou Ímpar: e o número correspondente (um linha para cada número lido).\n",
    "\n",
    "## Importante: Aplique a função range() em seu código."
   ]
  },
  {
   "cell_type": "code",
   "execution_count": 29,
   "id": "796ece58-3b3c-4d65-9b0f-a820b9262c85",
   "metadata": {},
   "outputs": [
    {
     "name": "stdout",
     "output_type": "stream",
     "text": [
      "Ímpar: 1\n",
      "Ímpar: 3\n",
      "Ímpar: 5\n"
     ]
    }
   ],
   "source": [
    "numeros = list(range(1, 7, 2))  \n",
    "\n",
    "for numero in numeros:\n",
    "    if numero % 2 == 0:\n",
    "        print(\"Par:\", numero)\n",
    "    else:\n",
    "        print(\"Ímpar:\", numero)"
   ]
  },
  {
   "cell_type": "markdown",
   "id": "c2bc2494-b613-40a2-aace-fa911a0c46fc",
   "metadata": {},
   "source": [
    "## Exercícios Parte 1 Escreva um código Python para imprimir os números pares de 0 até 20 (incluso). Importanmte: Aplique a função range() em seu código."
   ]
  },
  {
   "cell_type": "code",
   "execution_count": 4,
   "id": "68841a7f-d81d-41a9-be0a-a6afe485305e",
   "metadata": {},
   "outputs": [
    {
     "name": "stdout",
     "output_type": "stream",
     "text": [
      "0\n",
      "2\n",
      "4\n",
      "6\n",
      "8\n",
      "10\n",
      "12\n",
      "14\n",
      "16\n",
      "18\n",
      "20\n"
     ]
    }
   ],
   "source": [
    "for numero in range(0, 21, 2):\n",
    "    print(numero)\n"
   ]
  },
  {
   "cell_type": "markdown",
   "id": "b951c9ce-e6a0-4a20-9f1e-8b7b51a228a1",
   "metadata": {},
   "source": [
    "## Exercícios Parte 1 Escreva um código Python para imprimir todos os números primos entre 1 até 100. Lembre-se que você deverá desenvolver o cálculo que identifica se um número é primo ou não.\n",
    "## Importante: Aplique a função range()."
   ]
  },
  {
   "cell_type": "code",
   "execution_count": 5,
   "id": "5b98a148-5e55-4069-8c28-ebbfe8639251",
   "metadata": {},
   "outputs": [
    {
     "name": "stdout",
     "output_type": "stream",
     "text": [
      "2\n",
      "3\n",
      "5\n",
      "7\n",
      "11\n",
      "13\n",
      "17\n",
      "19\n",
      "23\n",
      "29\n",
      "31\n",
      "37\n",
      "41\n",
      "43\n",
      "47\n",
      "53\n",
      "59\n",
      "61\n",
      "67\n",
      "71\n",
      "73\n",
      "79\n",
      "83\n",
      "89\n",
      "97\n"
     ]
    }
   ],
   "source": [
    "def is_prime(num):\n",
    "    if num <= 1:\n",
    "        return False\n",
    "    for i in range(2, int(num**0.5) + 1):\n",
    "        if num % i == 0:\n",
    "            return False\n",
    "    return True\n",
    "\n",
    "\n",
    "for num in range(2, 101):\n",
    "    if is_prime(num):\n",
    "        print(num)\n"
   ]
  },
  {
   "cell_type": "markdown",
   "id": "9123ba8c-390c-4947-914b-ea9a63004373",
   "metadata": {},
   "source": [
    "## Escreva um código Python que declara 3 variáveis:\n",
    "\n",
    "\n",
    "\n",
    "## dia, inicializada com valor 22\n",
    "\n",
    "## mes, inicializada com valor 10 e\n",
    "\n",
    "## ano, inicializada com valor 2022\n",
    "\n",
    "## Como saída, você deverá imprimir a data correspondente, no formato a seguir dia/mes/ano."
   ]
  },
  {
   "cell_type": "code",
   "execution_count": 7,
   "id": "93c39a18-a700-4495-bb09-c1a892eb8475",
   "metadata": {},
   "outputs": [
    {
     "name": "stdout",
     "output_type": "stream",
     "text": [
      "22/10/2022\n"
     ]
    }
   ],
   "source": [
    "\n",
    "dia = 22\n",
    "mes = 10\n",
    "ano = 2022\n",
    "\n",
    "\n",
    "print(f'{dia}/{mes}/{ano}')"
   ]
  },
  {
   "cell_type": "markdown",
   "id": "224ad2b6-57e9-47a4-a7c7-6f1d1eb4fb6e",
   "metadata": {},
   "source": [
    "## Considere as duas listas abaixo:\n",
    "\n",
    "\n",
    "\n",
    "## a = [1, 1, 2, 3, 5, 8, 14, 21, 34, 55, 89]\n",
    "## b = [1, 2, 3, 4, 5, 6, 7, 8, 9, 10, 11, 12, 13, 14, 15]\n",
    "\n",
    "\n",
    "##Escreva um programa para avaliar o que ambas as listas têm em comum (sem repetições), imprimindo a lista de valores da interseção na saída padrão.\n",
    "\n",
    "\n",
    "\n",
    "## Importante:  Esperamos que você utilize o construtor set() em seu código"
   ]
  },
  {
   "cell_type": "code",
   "execution_count": 30,
   "id": "6d253060-7b9f-4d58-965f-f4c96aa979e2",
   "metadata": {},
   "outputs": [
    {
     "name": "stdout",
     "output_type": "stream",
     "text": [
      "[1, 2, 3, 5, 8, 14]\n"
     ]
    }
   ],
   "source": [
    "a = [1, 1, 2, 3, 5, 8, 14, 21, 34, 55, 89]\n",
    "b = [1, 2, 3, 4, 5, 6, 7, 8, 9, 10, 11, 12, 13, 14, 15]\n",
    "\n",
    "\n",
    "set_a = set(a)\n",
    "set_b = set(b)\n",
    "\n",
    "intersection = set_a & set_b\n",
    "\n",
    "common_elements = list(intersection)\n",
    "print(common_elements)"
   ]
  },
  {
   "cell_type": "markdown",
   "id": "181940b5-a8c0-4c95-bc7a-ff469c4608e0",
   "metadata": {},
   "source": [
    "## Dada a seguinte lista:\n",
    "\n",
    "\n",
    "\n",
    "## a = [1, 4, 9, 16, 25, 36, 49, 64, 81, 100]\n",
    "\n",
    "\n",
    "\n",
    "## Faça um programa que gere uma nova lista contendo apenas números ímpares."
   ]
  },
  {
   "cell_type": "code",
   "execution_count": 9,
   "id": "a64f885c-d380-411f-8c34-a9332272a62e",
   "metadata": {},
   "outputs": [
    {
     "name": "stdout",
     "output_type": "stream",
     "text": [
      "[1, 9, 25, 49, 81]\n"
     ]
    }
   ],
   "source": [
    "a = [1, 4, 9, 16, 25, 36, 49, 64, 81, 100]\n",
    "\n",
    "odd_numbers = [x for x in a if x % 2 != 0]\n",
    "\n",
    "print(odd_numbers)"
   ]
  },
  {
   "cell_type": "markdown",
   "id": "1ff39651-8ba3-485c-b508-1bbed88e71f5",
   "metadata": {},
   "source": [
    "## Verifique se cada uma das palavras da lista ['maça', 'arara', 'audio', 'radio', 'radar', 'moto'] é ou não um palíndromo.\n",
    "\n",
    "## Obs: Palíndromo é uma palavra que permanece igual se lida de traz pra frente.\n",
    "\n",
    "\n",
    "\n",
    "## É necessário que você imprima no console exatamente assim:\n",
    "\n",
    "\n",
    "\n",
    "## A palavra: maça não é um palíndromo\n",
    " \n",
    "## A palavra: arara é um palíndromo\n",
    " \n",
    "## A palavra: audio não é um palíndromo\n",
    " \n",
    "## A palavra: radio não é um palíndromo\n",
    " \n",
    "## A palavra: radar é um palíndromo\n",
    " \n",
    "## A palavra: moto não é um palíndromo"
   ]
  },
  {
   "cell_type": "code",
   "execution_count": 31,
   "id": "1b9aca68-a39f-4393-a82a-a3615662fe4c",
   "metadata": {},
   "outputs": [
    {
     "name": "stdout",
     "output_type": "stream",
     "text": [
      "A palavra: maça não é um palíndromo\n",
      "A palavra: arara é um palíndromo\n",
      "A palavra: audio não é um palíndromo\n",
      "A palavra: radio não é um palíndromo\n",
      "A palavra: radar é um palíndromo\n",
      "A palavra: moto não é um palíndromo\n"
     ]
    }
   ],
   "source": [
    "words = ['maça', 'arara', 'audio', 'radio', 'radar', 'moto']\n",
    "\n",
    "for word in words:\n",
    "    if word == word[::-1]:\n",
    "        print(f\"A palavra: {word} é um palíndromo\")\n",
    "    else:\n",
    "        print(f\"A palavra: {word} não é um palíndromo\")"
   ]
  },
  {
   "cell_type": "markdown",
   "id": "dc8f7473-d712-4622-ae4d-5373ffe3d854",
   "metadata": {},
   "source": [
    "## Dada as listas a seguir:\n",
    "\n",
    "\n",
    "\n",
    "## primeirosNomes = ['Joao', 'Douglas', 'Lucas', 'José']\n",
    "## sobreNomes = ['Soares', 'Souza', 'Silveira', 'Pedreira']\n",
    "## idades = [19, 28, 25, 31]\n",
    "\n",
    "\n",
    "## Faça um programa que imprima o dados na seguinte estrutura: \"índice - primeiroNome sobreNome está com idade anos\".\n",
    "\n",
    "\n",
    "\n",
    "## Exemplo:\n",
    "\n",
    "## 0 - João Soares está com 19 anos"
   ]
  },
  {
   "cell_type": "code",
   "execution_count": 32,
   "id": "91d7aaf7-0e70-4130-863e-8dcf5242c999",
   "metadata": {},
   "outputs": [
    {
     "name": "stdout",
     "output_type": "stream",
     "text": [
      "0 - Joao Soares está com 19 anos\n",
      "1 - Douglas Souza está com 28 anos\n",
      "2 - Lucas Silveira está com 25 anos\n",
      "3 - José Pedreira está com 31 anos\n"
     ]
    }
   ],
   "source": [
    "\n",
    "primeirosNomes = ['Joao', 'Douglas', 'Lucas', 'José']\n",
    "sobreNomes = ['Soares', 'Souza', 'Silveira', 'Pedreira']\n",
    "idades = [19, 28, 25, 31]\n",
    "\n",
    "\n",
    "for indice, primeiroNome in enumerate(primeirosNomes):\n",
    "    sobreNome = sobreNomes[indice]  \n",
    "    idade = idades[indice]  \n",
    "    print(f\"{indice} - {primeiroNome} {sobreNome} está com {idade} anos\")\n",
    "\n"
   ]
  },
  {
   "cell_type": "markdown",
   "id": "b1a898f7-6fed-43f6-8628-7ff99823e924",
   "metadata": {},
   "source": [
    "## Escreva uma função que recebe uma lista e retorna uma nova lista sem elementos duplicados. Utilize a lista a seguir para testar sua função.\n",
    "\n",
    "\n",
    "\n",
    "## ['abc', 'abc', 'abc', '123', 'abc', '123', '123']"
   ]
  },
  {
   "cell_type": "code",
   "execution_count": 12,
   "id": "311f41cc-456f-4487-b8ca-bfef76db59f9",
   "metadata": {},
   "outputs": [
    {
     "name": "stdout",
     "output_type": "stream",
     "text": [
      "['abc', '123']\n"
     ]
    }
   ],
   "source": [
    "def remove_duplicatas(lista):\n",
    "    conjunto_sem_duplicatas = set(lista)\n",
    "    \n",
    "    lista_sem_duplicatas = list(conjunto_sem_duplicatas)\n",
    "    \n",
    "    return lista_sem_duplicatas\n",
    "\n",
    "lista = ['abc', 'abc', 'abc', '123', 'abc', '123', '123']\n",
    "\n",
    "lista_sem_duplicatas = remove_duplicatas(lista)\n",
    "print(lista_sem_duplicatas)\n"
   ]
  },
  {
   "cell_type": "markdown",
   "id": "20703b11-3141-4945-9932-ed760b5111f7",
   "metadata": {},
   "source": [
    "## Leia o arquivo person.json, faça o parsing e imprima seu conteúdo.\n",
    "\n",
    "## Dica: leia a documentação do pacote json"
   ]
  },
  {
   "cell_type": "code",
   "execution_count": null,
   "id": "debe8ed2-ead1-42b2-a876-4ea0c75e9b19",
   "metadata": {},
   "outputs": [],
   "source": [
    "import json\n",
    "\n",
    "with open('person.json', 'r') as arquivo_json:\n",
    "    dados = json.load(arquivo_json)\n",
    "\n",
    "print(dados)\n"
   ]
  },
  {
   "cell_type": "markdown",
   "id": "eb7c5621-11a3-45e0-8411-d923a6a337ea",
   "metadata": {},
   "source": [
    "## Implemente a função my_map(list, f) que recebe uma lista como primeiro argumento e uma função como segundo argumento. Esta função aplica a função recebida para cada elemento da lista recebida e retorna o resultado em uma nova lista.\n",
    "\n",
    "\n",
    "\n",
    "## Teste sua função com a lista de entrada [1, 2, 3, 4, 5, 6, 7, 8, 9, 10] e com uma função que potência de 2 para cada elemento."
   ]
  },
  {
   "cell_type": "code",
   "execution_count": 34,
   "id": "a8008c43-e9bc-43e8-910e-170216cd9a7e",
   "metadata": {},
   "outputs": [
    {
     "name": "stdout",
     "output_type": "stream",
     "text": [
      "[1, 4, 9, 16, 25, 36, 49, 64, 81, 100]\n"
     ]
    }
   ],
   "source": [
    "def my_map(lista, f):\n",
    "   \n",
    "    resultado = []\n",
    "    \n",
    "    for elemento in lista:\n",
    "        resultado.append(f(elemento))\n",
    "    \n",
    "    return resultado\n",
    "\n",
    "def potencia_de_2(x):\n",
    "    return x ** 2\n",
    "\n",
    "\n",
    "lista = [1, 2, 3, 4, 5, 6, 7, 8, 9, 10]\n",
    "\n",
    "resultado = my_map(lista, potencia_de_2)\n",
    "\n",
    "\n",
    "print(resultado)\n"
   ]
  },
  {
   "cell_type": "markdown",
   "id": "0f57394a-b258-4964-951a-9d260345110f",
   "metadata": {},
   "source": [
    "## Escreva um programa que lê o conteúdo do arquivo texto arquivo_texto.txt e imprime o seu conteúdo.\n",
    "\n",
    "## Dica: leia a documentação da função open(...)"
   ]
  },
  {
   "cell_type": "code",
   "execution_count": null,
   "id": "6eb08ce4-fa87-4434-9773-aaeeb9806ec6",
   "metadata": {},
   "outputs": [],
   "source": [
    "\n",
    "with open('arquivo_texto.txt', 'r') as arquivo:\n",
    "\n",
    "    conteudo = arquivo.read()\n",
    "\n",
    "\n",
    "print(conteudo, end='')  \n"
   ]
  },
  {
   "cell_type": "markdown",
   "id": "af60cdd9-ead6-4d3e-aba7-0431d420a150",
   "metadata": {},
   "source": [
    "## Escreva uma função que recebe um número variável de parâmetros não nomeados e um número variado de parâmetros nomeados e imprime o valor de cada parâmetro recebido.\n",
    "\n",
    "\n",
    "\n",
    "## Teste sua função com os seguintes parâmetros:"
   ]
  },
  {
   "cell_type": "code",
   "execution_count": 17,
   "id": "74a9b0a9-bac6-418e-971b-4136b3894da5",
   "metadata": {},
   "outputs": [
    {
     "name": "stdout",
     "output_type": "stream",
     "text": [
      "1\n",
      "3\n",
      "4\n",
      "hello\n",
      "alguma coisa\n",
      "20\n"
     ]
    }
   ],
   "source": [
    "def imprimir(*args, **kwargs):\n",
    "    for arg in args:\n",
    "        print(arg)\n",
    "    for v in kwargs.values():\n",
    "        print(v)\n",
    "\n",
    "\n",
    "imprimir(1, 3, 4, 'hello', parametro_nomeado='alguma coisa', x=20)"
   ]
  },
  {
   "cell_type": "markdown",
   "id": "89015539-a9e7-4a54-9af4-7c1ac344a558",
   "metadata": {},
   "source": [
    "## Implemente a classe Lampada. A classe Lâmpada recebe um booleano no seu construtor, Truese a lâmpada estiver ligada, False caso esteja desligada. A classe Lampada possuí os seguintes métodos:\n",
    "\n",
    "## liga(): muda o estado da lâmpada para ligada\n",
    "\n",
    "## desliga(): muda o estado da lâmpada para desligada\n",
    "\n",
    "## esta_ligada(): retorna verdadeiro se a lâmpada estiver ligada, falso caso contrário\n",
    "\n",
    "## Para testar sua classe:\n",
    "\n",
    "## Ligue a Lampada\n",
    "\n",
    "## Imprima: A lâmpada está ligada? True\n",
    "\n",
    "## Desligue a Lampada\n",
    "\n",
    "## Imprima: A lâmpada ainda está ligada? False"
   ]
  },
  {
   "cell_type": "code",
   "execution_count": 18,
   "id": "b12080a1-1b40-457f-a58b-7d4a86232f2d",
   "metadata": {},
   "outputs": [
    {
     "name": "stdout",
     "output_type": "stream",
     "text": [
      "A lâmpada está ligada? True\n",
      "A lâmpada ainda está ligada? False\n"
     ]
    }
   ],
   "source": [
    "class Lampada:\n",
    "    def __init__(self, ligada=False):\n",
    "        self.ligada = ligada\n",
    "\n",
    "    def liga(self):\n",
    "        self.ligada = True\n",
    "\n",
    "    def desliga(self):\n",
    "        self.ligada = False\n",
    "\n",
    "    def esta_ligada(self):\n",
    "        return self.ligada\n",
    "\n",
    "lampada = Lampada()  \n",
    "lampada.liga()  \n",
    "print(\"A lâmpada está ligada?\", lampada.esta_ligada())\n",
    "\n",
    "lampada.desliga() \n",
    "print(\"A lâmpada ainda está ligada?\", lampada.esta_ligada())\n"
   ]
  },
  {
   "cell_type": "markdown",
   "id": "a262e0fb-fcf9-4ac3-99da-4fbf413734c8",
   "metadata": {},
   "source": [
    "## Escreva uma função que recebe uma string de números separados por vírgula e retorne a soma de todos eles. Depois imprima a soma dos valores.\n",
    "\n",
    "\n",
    "\n",
    "## A string deve ter valor  \"1,3,4,6,10,76\""
   ]
  },
  {
   "cell_type": "code",
   "execution_count": 19,
   "id": "3e1a7090-dbc0-4772-9860-7d8ae8600bd8",
   "metadata": {},
   "outputs": [
    {
     "name": "stdout",
     "output_type": "stream",
     "text": [
      "100\n"
     ]
    }
   ],
   "source": [
    "def somar(dados: str) -> int:\n",
    "    lista_str = dados.split(',')\n",
    "    lista_int = list(map(int, lista_str))\n",
    "    return sum(lista_int)\n",
    "\n",
    "\n",
    "print(somar(\"1,3,4,6,10,76\"))"
   ]
  },
  {
   "cell_type": "markdown",
   "id": "14a560ef-f08e-47b9-9df0-57819b81de02",
   "metadata": {},
   "source": [
    "## Escreva uma função que recebe como parâmetro uma lista e retorna 3 listas: a lista recebida dividida em 3 partes iguais. Teste sua implementação com a lista abaixo\n",
    "\n",
    "\n",
    "\n",
    "## lista = [1, 2, 3, 4, 5, 6, 7, 8, 9, 10, 11, 12]"
   ]
  },
  {
   "cell_type": "code",
   "execution_count": 20,
   "id": "d536dfdf-58eb-4f76-86aa-26a57c2bba41",
   "metadata": {},
   "outputs": [
    {
     "name": "stdout",
     "output_type": "stream",
     "text": [
      "[1, 2, 3, 4] [5, 6, 7, 8] [9, 10, 11, 12]\n"
     ]
    }
   ],
   "source": [
    "import typing as t\n",
    "\n",
    "T = t.TypeVar('T')\n",
    "\n",
    "\n",
    "def dividir_lista(lista: list[T]) -> tuple[list[T], list[T], list[T]]:\n",
    "    terço = len(lista) // 3\n",
    "    return lista[:terço], lista[terço:terço*2], lista[terço*2:]\n",
    "\n",
    "\n",
    "lista = [1, 2, 3, 4, 5, 6, 7, 8, 9, 10, 11, 12]\n",
    "lista_dividida = dividir_lista(lista)\n",
    "print(*lista_dividida)"
   ]
  },
  {
   "cell_type": "markdown",
   "id": "6b633324-7c00-4611-897a-9aca571ba001",
   "metadata": {},
   "source": [
    "## Dado o dicionário a seguir:\n",
    "\n",
    "## peed = {'jan':47, 'feb':52, 'march':47, 'April':44, 'May':52, 'June':53, 'july':54, 'Aug':44, 'Sept':54}\n",
    "\n",
    "## Crie uma lista com todos os valores (não as chaves!) e coloque numa lista de forma que não haja valores duplicados."
   ]
  },
  {
   "cell_type": "code",
   "execution_count": 21,
   "id": "996dc450-7a40-4e0e-a85f-42c99cdca2be",
   "metadata": {},
   "outputs": [
    {
     "name": "stdout",
     "output_type": "stream",
     "text": [
      "[44, 47, 52, 53, 54]\n"
     ]
    }
   ],
   "source": [
    "speed = {'jan': 47, 'feb': 52, 'march': 47, 'April': 44, 'May': 52, 'June': 53, 'july': 54, 'Aug': 44, 'Sept': 54}\n",
    "\n",
    "valores_unicos = list(set(speed.values()))\n",
    "\n",
    "print(valores_unicos)\n"
   ]
  },
  {
   "cell_type": "markdown",
   "id": "684c29a9-63ca-41d2-9705-7e8479c2467c",
   "metadata": {},
   "source": [
    "## Calcule o valor mínimo, valor máximo, valor médio e a mediana da lista gerada na célula abaixo:\n",
    "\n",
    "\n",
    "\n",
    "## Obs.: Lembrem-se, para calcular a mediana a lista deve estar ordenada!\n",
    "\n",
    "\n",
    "\n",
    "## import random \n",
    "# amostra aleatoriamente 50 números do intervalo 0...500\n",
    "## random_list = random.sample(range(500),50)\n",
    "\n",
    "\n",
    "## Use as variáveis abaixo para representar cada operação matemática:\n",
    "\n",
    "\n",
    "\n",
    "## mediana\n",
    "## media\n",
    "## valor_minimo \n",
    "## valor_maximo \n",
    "\n",
    "\n",
    "## Importante: Esperamos que você utilize as funções abaixo em seu código:\n",
    "\n",
    "\n",
    "\n",
    "## random\n",
    "\n",
    "## max\n",
    "\n",
    "## min\n",
    "\n",
    "## sum"
   ]
  },
  {
   "cell_type": "code",
   "execution_count": 22,
   "id": "02f53199-f59b-46af-bdfe-0ddde1752ae1",
   "metadata": {},
   "outputs": [
    {
     "name": "stdout",
     "output_type": "stream",
     "text": [
      "Media: 249.36, Mediana: 245.0, Mínimo: 9, Máximo: 494\n"
     ]
    }
   ],
   "source": [
    "import random\n",
    "\n",
    "random_list = random.sample(range(500), 50)\n",
    "random_list.sort()\n",
    "if len(random_list)%2==0:\n",
    "    meio = len(random_list)//2\n",
    "    valor1 = random_list[meio]\n",
    "    valor2 = random_list[meio-1]\n",
    "    mediana = (valor1+valor2)/2\n",
    "else:\n",
    "    mediana = random_list[len(random_list)//2]\n",
    "media = sum(random_list)/len(random_list)\n",
    "valor_minimo = min(random_list)\n",
    "valor_maximo = max(random_list)\n",
    "\n",
    "print(f'Media: {media}, Mediana: {mediana}, Mínimo: {valor_minimo}, '\n",
    "      f'Máximo: {valor_maximo}')"
   ]
  },
  {
   "cell_type": "markdown",
   "id": "9e14a0ab-c819-4c21-9b3c-55130ebaf55d",
   "metadata": {},
   "source": [
    "## Imprima a lista abaixo de trás para frente.\n",
    "\n",
    "## a = [1, 0, 2, 3, 5, 8, 13, 21, 34, 55, 89]"
   ]
  },
  {
   "cell_type": "code",
   "execution_count": 23,
   "id": "ebdd8428-b5ab-4181-ba20-52e028629bea",
   "metadata": {},
   "outputs": [
    {
     "name": "stdout",
     "output_type": "stream",
     "text": [
      "[89, 55, 34, 21, 13, 8, 5, 3, 2, 0, 1]\n"
     ]
    }
   ],
   "source": [
    "a = [1, 0, 2, 3, 5, 8, 13, 21, 34, 55, 89]\n",
    "\n",
    "\n",
    "print(list(reversed(a)))\n"
   ]
  },
  {
   "cell_type": "markdown",
   "id": "76f7a437-c042-4ac6-b2a3-89820d52345b",
   "metadata": {},
   "source": [
    "## Implemente duas classes, Pato e Pardal , que herdam de uma superclasse chamada Passaro as habilidades de voar e emitir som.\n",
    "\n",
    "\n",
    "\n",
    "## Contudo, tanto Pato quanto Pardal devem emitir sons diferentes (de maneira escrita) no console, conforme o modelo a seguir.\n",
    "\n",
    "\n",
    "\n",
    "## Imprima no console exatamente assim:\n",
    "\n",
    "## Pato\n",
    "## Voando...\n",
    "## Pato emitindo som...\n",
    "## Quack Quack\n",
    "## Pardal\n",
    "## Voando...\n",
    "## Pardal emitindo som...\n",
    "## Piu Piu"
   ]
  },
  {
   "cell_type": "code",
   "execution_count": 35,
   "id": "fa087f89-d52f-4505-bd18-5a2b4874206f",
   "metadata": {},
   "outputs": [
    {
     "name": "stdout",
     "output_type": "stream",
     "text": [
      "Pato\n",
      "Voando...\n",
      "Pato emitindo som...\n",
      "Quack Quack\n",
      "\n",
      "Pardal\n",
      "Voando...\n",
      "Pardal emitindo som...\n",
      "Piu Piu\n"
     ]
    }
   ],
   "source": [
    "class Passaro:\n",
    "    def voar(self):\n",
    "        print(\"Voando...\")\n",
    "\n",
    "    def emitir_som(self):\n",
    "        pass\n",
    "\n",
    "class Pato(Passaro):\n",
    "    def emitir_som(self):\n",
    "        print(\"Quack Quack\")\n",
    "\n",
    "class Pardal(Passaro):\n",
    "    def emitir_som(self):\n",
    "        print(\"Piu Piu\")\n",
    "\n",
    "if __name__ == \"__main__\":\n",
    "    pato = Pato()\n",
    "    print(\"Pato\")\n",
    "    pato.voar()\n",
    "    print(\"Pato emitindo som...\")\n",
    "    pato.emitir_som()\n",
    "\n",
    "    print()\n",
    "\n",
    "    pardal = Pardal()\n",
    "    print(\"Pardal\")\n",
    "    pardal.voar()\n",
    "    print(\"Pardal emitindo som...\")\n",
    "    pardal.emitir_som()\n"
   ]
  },
  {
   "cell_type": "markdown",
   "id": "632e3d20-9d00-4556-88cd-5e40d030838f",
   "metadata": {},
   "source": [
    "## Crie uma classe chamada Pessoa, com um atributo privado chamado nome (declarado internamente na classe como __nome) e um atributo público de nome id.\n",
    "\n",
    "## Adicione dois métodos à classe, sendo um para definir o valor de __nome e outro para retornar o valor do respectivo atributo.\n",
    "\n",
    "## Lembre-se que o acesso ao atributo privado deve ocorrer somente através dos métodos definidos, nunca diretamente.  Você pode alcançar este comportamento através do recurso de properties do Python.\n",
    "\n",
    "\n",
    "\n",
    "## Veja um exemplo de como seu atributo privado pode ser lido e escrito:\n",
    "\n",
    "\n",
    "\n",
    "## pessoa = Pessoa(0) \n",
    "## pessoa.nome = 'Fulano De Tal'\n",
    "## print(pessoa.nome)"
   ]
  },
  {
   "cell_type": "code",
   "execution_count": 36,
   "id": "69aebde3-94f6-405e-ba26-09ee06f973b6",
   "metadata": {},
   "outputs": [
    {
     "name": "stdout",
     "output_type": "stream",
     "text": [
      "Fulano De Tal\n"
     ]
    }
   ],
   "source": [
    "class Pessoa:\n",
    "    def __init__(self, id):\n",
    "        self.__nome = None  \n",
    "        self.id = id  \n",
    "\n",
    "    \n",
    "    def set_nome(self, nome):\n",
    "        self.__nome = nome\n",
    "\n",
    "    \n",
    "    def get_nome(self):\n",
    "        return self.__nome\n",
    "\n",
    "   \n",
    "    nome = property(get_nome, set_nome)\n",
    "\n",
    "if __name__ == \"__main__\":\n",
    "    pessoa = Pessoa(0)\n",
    "    pessoa.nome = 'Fulano De Tal'\n",
    "    print(pessoa.nome)\n"
   ]
  },
  {
   "cell_type": "markdown",
   "id": "ff3d2299-1ebd-47ba-9b3b-70c462d68208",
   "metadata": {},
   "source": [
    "## Crie uma classe  Calculo  que contenha um método que aceita dois parâmetros, X e Y, e retorne a soma dos dois. Nessa mesma classe, implemente um método de subtração, que aceita dois parâmetros, X e Y, e retorne a subtração dos dois (resultados negativos são permitidos).\n",
    "\n",
    "## Utilize os valores abaixo para testar seu exercício:\n",
    "\n",
    "## x = 4 \n",
    "## y = 5\n",
    "## imprima:\n",
    "\n",
    "## Somando: 4+5 = 9\n",
    "## Subtraindo: 4-5 = -1"
   ]
  },
  {
   "cell_type": "code",
   "execution_count": 37,
   "id": "a517f8d8-0365-43c5-9863-0731342a6587",
   "metadata": {},
   "outputs": [
    {
     "name": "stdout",
     "output_type": "stream",
     "text": [
      "Somando: 4+5 = 9\n",
      "Subtraindo: 4-5 = -1\n"
     ]
    }
   ],
   "source": [
    "class Calculo:\n",
    "    def soma(self, x, y):\n",
    "        return x + y\n",
    "\n",
    "    def subtracao(self, x, y):\n",
    "        return x - y\n",
    "\n",
    "\n",
    "if __name__ == \"__main__\":\n",
    "    x = 4\n",
    "    y = 5\n",
    "    calc = Calculo()\n",
    "\n",
    "    resultado_soma = calc.soma(x, y)\n",
    "    print(\"Somando: {}+{} = {}\".format(x, y, resultado_soma))\n",
    "\n",
    "    resultado_subtracao = calc.subtracao(x, y)\n",
    "    print(\"Subtraindo: {}-{} = {}\".format(x, y, resultado_subtracao))\n"
   ]
  },
  {
   "cell_type": "markdown",
   "id": "f2157835-ffee-4fe7-a91a-c28542c1c5a0",
   "metadata": {},
   "source": [
    "## Crie uma classe Ordenadora que contenha um atributo listaBaguncada e que contenha os métodos ordenacaoCrescente e ordenacaoDecrescente.\n",
    "\n",
    "## Instancie um objeto chamado crescente dessa classe Ordenadora que tenha como listaBaguncada a lista [3,4,2,1,5] e instancie um outro objeto, decrescente dessa mesma classe com uma outra listaBaguncada sendo [9,7,6,8].\n",
    "\n",
    "## Para o primeiro objeto citado, use o método ordenacaoCrescente e para o segundo objeto, use o método ordenacaoDecrescente.\n",
    "\n",
    "\n",
    "\n",
    "## Imprima o resultado da ordenação crescente e da ordenação decresce\n",
    "\n",
    "## [1, 2, 3, 4, 5] \n",
    "## [9, 8, 7, 6]"
   ]
  },
  {
   "cell_type": "code",
   "execution_count": 38,
   "id": "5a7a0c27-15ac-4185-b013-12bda5c6c4b9",
   "metadata": {},
   "outputs": [
    {
     "name": "stdout",
     "output_type": "stream",
     "text": [
      "[1, 2, 3, 4, 5]\n",
      "[9, 8, 7, 6]\n"
     ]
    }
   ],
   "source": [
    "class Ordenadora:\n",
    "    def __init__(self, listaBaguncada):\n",
    "        self.listaBaguncada = listaBaguncada\n",
    "\n",
    "    def ordenacaoCrescente(self):\n",
    "        self.listaBaguncada.sort()\n",
    "        return self.listaBaguncada\n",
    "\n",
    "    def ordenacaoDecrescente(self):\n",
    "        self.listaBaguncada.sort(reverse=True)\n",
    "        return self.listaBaguncada\n",
    "\n",
    "crescente = Ordenadora([3, 4, 2, 1, 5])\n",
    "resultado_crescente = crescente.ordenacaoCrescente()\n",
    "print(resultado_crescente)\n",
    "\n",
    "decrescente = Ordenadora([9, 7, 6, 8])\n",
    "resultado_decrescente = decrescente.ordenacaoDecrescente()\n",
    "print(resultado_decrescente)\n"
   ]
  },
  {
   "cell_type": "markdown",
   "id": "b5eba659-9bf9-4b3e-9834-eb5f09bd09dd",
   "metadata": {},
   "source": [
    "## Crie uma classe Avião que possua os atributos modelo, velocidade_maxima, cor e capacidade.\n",
    "\n",
    "## Defina o atributo cor de sua classe , de maneira que todas as instâncias de sua classe avião sejam da cor “azul”.\n",
    "\n",
    "## Após isso, a partir de entradas abaixo, instancie e armazene em uma lista 3 objetos da classe Avião.\n",
    "\n",
    "## Ao final, itere pela lista imprimindo cada um dos objetos no seguinte formato:\n",
    "\n",
    "## “O avião de modelo “x” possui uma velocidade máxima de “y”, capacidade para “z” passageiros e é da cor “w”.\n",
    "\n",
    "## Sendo x, y, z e w cada um dos atributos da classe “Avião”."
   ]
  },
  {
   "cell_type": "code",
   "execution_count": 39,
   "id": "c657e0b9-07c9-4a0a-afa0-b6831f0835fb",
   "metadata": {},
   "outputs": [
    {
     "name": "stdout",
     "output_type": "stream",
     "text": [
      "O avião de modelo BOIENG456 possui uma velocidade máxima de 1500 km/h, capacidade para 400 passageiros e é da cor Azul.\n",
      "O avião de modelo Embraer Praetor 600 possui uma velocidade máxima de 863 km/h, capacidade para 14 passageiros e é da cor Azul.\n",
      "O avião de modelo Antonov An-2 possui uma velocidade máxima de 258 km/h, capacidade para 12 passageiros e é da cor Azul.\n"
     ]
    }
   ],
   "source": [
    "class Aviao:\n",
    "    cor = \"Azul\"\n",
    "\n",
    "    def __init__(self, modelo, velocidade_maxima, capacidade):\n",
    "        self.modelo = modelo\n",
    "        self.velocidade_maxima = velocidade_maxima\n",
    "        self.capacidade = capacidade\n",
    "\n",
    "    def __str__(self):\n",
    "        return f\"O avião de modelo {self.modelo} possui uma velocidade máxima de {self.velocidade_maxima} km/h, capacidade para {self.capacidade} passageiros e é da cor {self.cor}.\"\n",
    "\n",
    "avioes = []\n",
    "\n",
    "avioes.append(Aviao(\"BOIENG456\", 1500, 400))\n",
    "\n",
    "avioes.append(Aviao(\"Embraer Praetor 600\", 863, 14))\n",
    "\n",
    "avioes.append(Aviao(\"Antonov An-2\", 258, 12))\n",
    "\n",
    "for aviao in avioes:\n",
    "    print(aviao)"
   ]
  },
  {
   "cell_type": "code",
   "execution_count": null,
   "id": "33e309d3-acd9-4a0a-a0a8-9f6702ea4740",
   "metadata": {},
   "outputs": [],
   "source": []
  }
 ],
 "metadata": {
  "kernelspec": {
   "display_name": "Python 3 (ipykernel)",
   "language": "python",
   "name": "python3"
  },
  "language_info": {
   "codemirror_mode": {
    "name": "ipython",
    "version": 3
   },
   "file_extension": ".py",
   "mimetype": "text/x-python",
   "name": "python",
   "nbconvert_exporter": "python",
   "pygments_lexer": "ipython3",
   "version": "3.11.7"
  }
 },
 "nbformat": 4,
 "nbformat_minor": 5
}
